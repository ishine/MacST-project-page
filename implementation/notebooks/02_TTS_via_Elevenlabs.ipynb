{
 "cells": [
  {
   "cell_type": "markdown",
   "id": "0",
   "metadata": {},
   "source": [
    "# Multilingual Text-to-Speech (TTS) via Elevenlabs\n",
    "---\n",
    "This notebook contains code for a multilingual text-to-speech (TTS) system that generates accented speech from transliterated text. To use run this notebook, you must have access to the Elevenlabs API. Visit [Elevenlabs' website](https://elevenlabs.io/app/speech-synthesis/text-to-speech) to purchase the necessary quotas, or try out the free trial options. Once you have your API credentials, enter your API key (which starts with \"sk_...\") in the cell below.\n",
    "\n",
    "---"
   ]
  },
  {
   "cell_type": "code",
   "execution_count": null,
   "id": "1",
   "metadata": {},
   "outputs": [],
   "source": [
    "#####################################################\n",
    "############### API Key of Elevenlabs ###############\n",
    "#####################################################\n",
    "\n",
    "# https://elevenlabs.io/app/speech-synthesis/text-to-speech\n",
    "elevenlabs_api = \"\" # sk_...\n",
    "\n",
    "#####################################################\n",
    "#####################################################\n",
    "#####################################################\n",
    "\n",
    "import warnings\n",
    "warnings.filterwarnings(\"ignore\")\n",
    "import requests\n",
    "\n",
    "CHUNK_SIZE = 1024\n",
    "headers = {\n",
    "    \"Accept\": \"audio/mpeg\",\n",
    "    \"Content-Type\": \"application/json\",\n",
    "    \"xi-api-key\": elevenlabs_api, \n",
    "}\n",
    "\n",
    "def process_audio(text, audiofile, speaker_id):\n",
    "    url = f\"https://api.elevenlabs.io/v1/text-to-speech/{speaker_id}\"\n",
    "    data = {\n",
    "        \"text\": text,\n",
    "        \"model_id\": \"eleven_multilingual_v2\",\n",
    "        \"voice_settings\": {\n",
    "            \"stability\": 0.5,\n",
    "            \"similarity_boost\": 0.5\n",
    "        }\n",
    "    }\n",
    "    response = requests.post(url, json=data, headers=headers)\n",
    "    with open(audiofile, 'wb') as f:\n",
    "        for chunk in response.iter_content(chunk_size=CHUNK_SIZE):\n",
    "            if chunk:\n",
    "                f.write(chunk)"
   ]
  },
  {
   "cell_type": "markdown",
   "id": "2",
   "metadata": {},
   "source": [
    "---\n",
    "# Save Speech Recordings with Different Accents\n",
    "---\n",
    "In this example, we generate speech samples with different accents. The code uses two input sentences and saves the resulting recordings to the specified file paths:\n",
    "\n",
    "- `English_sentence`: A string containing the original English sentence.\n",
    "- `Hindi_sentence`: A string containing the transliterated sentence.\n",
    "- `englishfile`: A string specifying the file path where the English speech recording will be saved.\n",
    "- `hindifile`: A string specifying the file path where the accented speech recording will be saved.\n",
    "- `voiceid`: A string representing the speaker's ID from Elevenlabs. You can use a pre-existing voice ID provided by Elevenlabs or create a custom one. For more details, please visit [this website](https://elevenlabs.io/app/voice-lab).\n",
    "\n",
    "---"
   ]
  },
  {
   "cell_type": "code",
   "execution_count": null,
   "id": "3",
   "metadata": {},
   "outputs": [],
   "source": [
    "###########################################\n",
    "########## Adjustable Parameters ##########\n",
    "###########################################\n",
    "\n",
    "English_sentence = \"ICASSP in India.\"\n",
    "Hindi_sentence = \"आईकैस्प इन इंडिया.\"\n",
    "englishfile = \"Elevenlabs/English.wav\"\n",
    "hindifile = \"Elevenlabs/Hindi.wav\"\n",
    "voiceid = \"D38z5R...\"\n",
    "\n",
    "\n",
    "###########################################\n",
    "###########################################\n",
    "###########################################\n",
    "\n",
    "process_audio(English_sentence, englishfile, voiceid)\n",
    "process_audio(Hindi_sentence, hindifile, voiceid)"
   ]
  }
 ],
 "metadata": {
  "kernelspec": {
   "display_name": "Python 3 (ipykernel)",
   "language": "python",
   "name": "python3"
  },
  "language_info": {
   "codemirror_mode": {
    "name": "ipython",
    "version": 3
   },
   "file_extension": ".py",
   "mimetype": "text/x-python",
   "name": "python",
   "nbconvert_exporter": "python",
   "pygments_lexer": "ipython3",
   "version": "3.10.12"
  }
 },
 "nbformat": 4,
 "nbformat_minor": 5
}
